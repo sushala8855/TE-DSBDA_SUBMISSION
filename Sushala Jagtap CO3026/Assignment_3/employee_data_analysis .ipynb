{
  "metadata": {
    "kernelspec": {
      "name": "python",
      "display_name": "Python (Pyodide)",
      "language": "python"
    },
    "language_info": {
      "codemirror_mode": {
        "name": "python",
        "version": 3
      },
      "file_extension": ".py",
      "mimetype": "text/x-python",
      "name": "python",
      "nbconvert_exporter": "python",
      "pygments_lexer": "ipython3",
      "version": "3.8"
    }
  },
  "nbformat_minor": 5,
  "nbformat": 4,
  "cells": [
    {
      "id": "5ab77d61",
      "cell_type": "markdown",
      "source": "## Q1: Are there any missing values in the dataset?",
      "metadata": {}
    },
    {
      "id": "7358b56e",
      "cell_type": "code",
      "source": "import pandas as pd\ndf = pd.read_csv('data.csv')\ndf.isnull().sum()",
      "metadata": {
        "trusted": true
      },
      "outputs": [
        {
          "execution_count": 33,
          "output_type": "execute_result",
          "data": {
            "text/plain": "Age                         0\nAttrition                   0\nBusinessTravel              0\nDailyRate                   0\nDepartment                  0\nDistanceFromHome            0\nEducation                   0\nEducationField              0\nEmployeeCount               0\nEmployeeNumber              0\nEnvironmentSatisfaction     0\nGender                      0\nHourlyRate                  0\nJobInvolvement              0\nJobLevel                    0\nJobRole                     0\nJobSatisfaction             0\nMaritalStatus               0\nMonthlyIncome               0\nMonthlyRate                 0\nNumCompaniesWorked          0\nOver18                      0\nOverTime                    0\nPercentSalaryHike           0\nPerformanceRating           0\nRelationshipSatisfaction    0\nStandardHours               0\nStockOptionLevel            0\nTotalWorkingYears           0\nTrainingTimesLastYear       0\nWorkLifeBalance             0\nYearsAtCompany              0\nYearsInCurrentRole          0\nYearsSinceLastPromotion     0\nYearsWithCurrManager        0\ndtype: int64"
          },
          "metadata": {}
        }
      ],
      "execution_count": 33
    },
    {
      "id": "384f42c7",
      "cell_type": "markdown",
      "source": "## Q2: How can we handle missing values using Pandas?",
      "metadata": {}
    },
    {
      "id": "2191b52c",
      "cell_type": "code",
      "source": "df.fillna(df.mode(), inplace=True)  # Example for numerical columns",
      "metadata": {
        "trusted": true
      },
      "outputs": [],
      "execution_count": 34
    },
    {
      "id": "82e85f29",
      "cell_type": "markdown",
      "source": "## Q3: How can we load the dataset from a CSV file into a Pandas DataFrame?",
      "metadata": {}
    },
    {
      "id": "69b67f4d",
      "cell_type": "code",
      "source": "import pandas as pd\ndf = pd.read_csv('data.csv')\ndf.head()",
      "metadata": {
        "trusted": true
      },
      "outputs": [
        {
          "execution_count": 35,
          "output_type": "execute_result",
          "data": {
            "text/plain": "   Age Attrition     BusinessTravel  DailyRate              Department  \\\n0   41       Yes      Travel_Rarely       1102                   Sales   \n1   49        No  Travel_Frequently        279  Research & Development   \n2   37       Yes      Travel_Rarely       1373  Research & Development   \n3   33        No  Travel_Frequently       1392  Research & Development   \n4   27        No      Travel_Rarely        591  Research & Development   \n\n   DistanceFromHome  Education EducationField  EmployeeCount  EmployeeNumber  \\\n0                 1          2  Life Sciences              1               1   \n1                 8          1  Life Sciences              1               2   \n2                 2          2          Other              1               4   \n3                 3          4  Life Sciences              1               5   \n4                 2          1        Medical              1               7   \n\n   ...  RelationshipSatisfaction StandardHours  StockOptionLevel  \\\n0  ...                         1            80                 0   \n1  ...                         4            80                 1   \n2  ...                         2            80                 0   \n3  ...                         3            80                 0   \n4  ...                         4            80                 1   \n\n   TotalWorkingYears  TrainingTimesLastYear WorkLifeBalance  YearsAtCompany  \\\n0                  8                      0               1               6   \n1                 10                      3               3              10   \n2                  7                      3               3               0   \n3                  8                      3               3               8   \n4                  6                      3               3               2   \n\n  YearsInCurrentRole  YearsSinceLastPromotion  YearsWithCurrManager  \n0                  4                        0                     5  \n1                  7                        1                     7  \n2                  0                        0                     0  \n3                  7                        3                     0  \n4                  2                        2                     2  \n\n[5 rows x 35 columns]",
            "text/html": "<div>\n<style scoped>\n    .dataframe tbody tr th:only-of-type {\n        vertical-align: middle;\n    }\n\n    .dataframe tbody tr th {\n        vertical-align: top;\n    }\n\n    .dataframe thead th {\n        text-align: right;\n    }\n</style>\n<table border=\"1\" class=\"dataframe\">\n  <thead>\n    <tr style=\"text-align: right;\">\n      <th></th>\n      <th>Age</th>\n      <th>Attrition</th>\n      <th>BusinessTravel</th>\n      <th>DailyRate</th>\n      <th>Department</th>\n      <th>DistanceFromHome</th>\n      <th>Education</th>\n      <th>EducationField</th>\n      <th>EmployeeCount</th>\n      <th>EmployeeNumber</th>\n      <th>...</th>\n      <th>RelationshipSatisfaction</th>\n      <th>StandardHours</th>\n      <th>StockOptionLevel</th>\n      <th>TotalWorkingYears</th>\n      <th>TrainingTimesLastYear</th>\n      <th>WorkLifeBalance</th>\n      <th>YearsAtCompany</th>\n      <th>YearsInCurrentRole</th>\n      <th>YearsSinceLastPromotion</th>\n      <th>YearsWithCurrManager</th>\n    </tr>\n  </thead>\n  <tbody>\n    <tr>\n      <th>0</th>\n      <td>41</td>\n      <td>Yes</td>\n      <td>Travel_Rarely</td>\n      <td>1102</td>\n      <td>Sales</td>\n      <td>1</td>\n      <td>2</td>\n      <td>Life Sciences</td>\n      <td>1</td>\n      <td>1</td>\n      <td>...</td>\n      <td>1</td>\n      <td>80</td>\n      <td>0</td>\n      <td>8</td>\n      <td>0</td>\n      <td>1</td>\n      <td>6</td>\n      <td>4</td>\n      <td>0</td>\n      <td>5</td>\n    </tr>\n    <tr>\n      <th>1</th>\n      <td>49</td>\n      <td>No</td>\n      <td>Travel_Frequently</td>\n      <td>279</td>\n      <td>Research &amp; Development</td>\n      <td>8</td>\n      <td>1</td>\n      <td>Life Sciences</td>\n      <td>1</td>\n      <td>2</td>\n      <td>...</td>\n      <td>4</td>\n      <td>80</td>\n      <td>1</td>\n      <td>10</td>\n      <td>3</td>\n      <td>3</td>\n      <td>10</td>\n      <td>7</td>\n      <td>1</td>\n      <td>7</td>\n    </tr>\n    <tr>\n      <th>2</th>\n      <td>37</td>\n      <td>Yes</td>\n      <td>Travel_Rarely</td>\n      <td>1373</td>\n      <td>Research &amp; Development</td>\n      <td>2</td>\n      <td>2</td>\n      <td>Other</td>\n      <td>1</td>\n      <td>4</td>\n      <td>...</td>\n      <td>2</td>\n      <td>80</td>\n      <td>0</td>\n      <td>7</td>\n      <td>3</td>\n      <td>3</td>\n      <td>0</td>\n      <td>0</td>\n      <td>0</td>\n      <td>0</td>\n    </tr>\n    <tr>\n      <th>3</th>\n      <td>33</td>\n      <td>No</td>\n      <td>Travel_Frequently</td>\n      <td>1392</td>\n      <td>Research &amp; Development</td>\n      <td>3</td>\n      <td>4</td>\n      <td>Life Sciences</td>\n      <td>1</td>\n      <td>5</td>\n      <td>...</td>\n      <td>3</td>\n      <td>80</td>\n      <td>0</td>\n      <td>8</td>\n      <td>3</td>\n      <td>3</td>\n      <td>8</td>\n      <td>7</td>\n      <td>3</td>\n      <td>0</td>\n    </tr>\n    <tr>\n      <th>4</th>\n      <td>27</td>\n      <td>No</td>\n      <td>Travel_Rarely</td>\n      <td>591</td>\n      <td>Research &amp; Development</td>\n      <td>2</td>\n      <td>1</td>\n      <td>Medical</td>\n      <td>1</td>\n      <td>7</td>\n      <td>...</td>\n      <td>4</td>\n      <td>80</td>\n      <td>1</td>\n      <td>6</td>\n      <td>3</td>\n      <td>3</td>\n      <td>2</td>\n      <td>2</td>\n      <td>2</td>\n      <td>2</td>\n    </tr>\n  </tbody>\n</table>\n<p>5 rows × 35 columns</p>\n</div>"
          },
          "metadata": {}
        }
      ],
      "execution_count": 35
    },
    {
      "id": "ab53979f",
      "cell_type": "markdown",
      "source": "## Q4: Are there duplicate employee records, and how can we remove them?",
      "metadata": {}
    },
    {
      "id": "0349ff86",
      "cell_type": "code",
      "source": "df.duplicated().sum(), df.drop_duplicates(inplace=True)",
      "metadata": {
        "trusted": true
      },
      "outputs": [
        {
          "execution_count": 36,
          "output_type": "execute_result",
          "data": {
            "text/plain": "(np.int64(0), None)"
          },
          "metadata": {}
        }
      ],
      "execution_count": 36
    },
    {
      "id": "13cf54ee",
      "cell_type": "markdown",
      "source": "## Q5: How can we identify missing values in the dataset and summarize it using describe()?",
      "metadata": {}
    },
    {
      "id": "0df75d75",
      "cell_type": "code",
      "source": "df.describe()",
      "metadata": {
        "trusted": true
      },
      "outputs": [
        {
          "execution_count": 37,
          "output_type": "execute_result",
          "data": {
            "text/plain": "               Age    DailyRate  DistanceFromHome    Education  EmployeeCount  \\\ncount  1470.000000  1470.000000       1470.000000  1470.000000         1470.0   \nmean     36.923810   802.485714          9.192517     2.912925            1.0   \nstd       9.135373   403.509100          8.106864     1.024165            0.0   \nmin      18.000000   102.000000          1.000000     1.000000            1.0   \n25%      30.000000   465.000000          2.000000     2.000000            1.0   \n50%      36.000000   802.000000          7.000000     3.000000            1.0   \n75%      43.000000  1157.000000         14.000000     4.000000            1.0   \nmax      60.000000  1499.000000         29.000000     5.000000            1.0   \n\n       EmployeeNumber  EnvironmentSatisfaction   HourlyRate  JobInvolvement  \\\ncount     1470.000000              1470.000000  1470.000000     1470.000000   \nmean      1024.865306                 2.721769    65.891156        2.729932   \nstd        602.024335                 1.093082    20.329428        0.711561   \nmin          1.000000                 1.000000    30.000000        1.000000   \n25%        491.250000                 2.000000    48.000000        2.000000   \n50%       1020.500000                 3.000000    66.000000        3.000000   \n75%       1555.750000                 4.000000    83.750000        3.000000   \nmax       2068.000000                 4.000000   100.000000        4.000000   \n\n          JobLevel  ...  RelationshipSatisfaction  StandardHours  \\\ncount  1470.000000  ...               1470.000000         1470.0   \nmean      2.063946  ...                  2.712245           80.0   \nstd       1.106940  ...                  1.081209            0.0   \nmin       1.000000  ...                  1.000000           80.0   \n25%       1.000000  ...                  2.000000           80.0   \n50%       2.000000  ...                  3.000000           80.0   \n75%       3.000000  ...                  4.000000           80.0   \nmax       5.000000  ...                  4.000000           80.0   \n\n       StockOptionLevel  TotalWorkingYears  TrainingTimesLastYear  \\\ncount       1470.000000        1470.000000            1470.000000   \nmean           0.793878          11.279592               2.799320   \nstd            0.852077           7.780782               1.289271   \nmin            0.000000           0.000000               0.000000   \n25%            0.000000           6.000000               2.000000   \n50%            1.000000          10.000000               3.000000   \n75%            1.000000          15.000000               3.000000   \nmax            3.000000          40.000000               6.000000   \n\n       WorkLifeBalance  YearsAtCompany  YearsInCurrentRole  \\\ncount      1470.000000     1470.000000         1470.000000   \nmean          2.761224        7.008163            4.229252   \nstd           0.706476        6.126525            3.623137   \nmin           1.000000        0.000000            0.000000   \n25%           2.000000        3.000000            2.000000   \n50%           3.000000        5.000000            3.000000   \n75%           3.000000        9.000000            7.000000   \nmax           4.000000       40.000000           18.000000   \n\n       YearsSinceLastPromotion  YearsWithCurrManager  \ncount              1470.000000           1470.000000  \nmean                  2.187755              4.123129  \nstd                   3.222430              3.568136  \nmin                   0.000000              0.000000  \n25%                   0.000000              2.000000  \n50%                   1.000000              3.000000  \n75%                   3.000000              7.000000  \nmax                  15.000000             17.000000  \n\n[8 rows x 26 columns]",
            "text/html": "<div>\n<style scoped>\n    .dataframe tbody tr th:only-of-type {\n        vertical-align: middle;\n    }\n\n    .dataframe tbody tr th {\n        vertical-align: top;\n    }\n\n    .dataframe thead th {\n        text-align: right;\n    }\n</style>\n<table border=\"1\" class=\"dataframe\">\n  <thead>\n    <tr style=\"text-align: right;\">\n      <th></th>\n      <th>Age</th>\n      <th>DailyRate</th>\n      <th>DistanceFromHome</th>\n      <th>Education</th>\n      <th>EmployeeCount</th>\n      <th>EmployeeNumber</th>\n      <th>EnvironmentSatisfaction</th>\n      <th>HourlyRate</th>\n      <th>JobInvolvement</th>\n      <th>JobLevel</th>\n      <th>...</th>\n      <th>RelationshipSatisfaction</th>\n      <th>StandardHours</th>\n      <th>StockOptionLevel</th>\n      <th>TotalWorkingYears</th>\n      <th>TrainingTimesLastYear</th>\n      <th>WorkLifeBalance</th>\n      <th>YearsAtCompany</th>\n      <th>YearsInCurrentRole</th>\n      <th>YearsSinceLastPromotion</th>\n      <th>YearsWithCurrManager</th>\n    </tr>\n  </thead>\n  <tbody>\n    <tr>\n      <th>count</th>\n      <td>1470.000000</td>\n      <td>1470.000000</td>\n      <td>1470.000000</td>\n      <td>1470.000000</td>\n      <td>1470.0</td>\n      <td>1470.000000</td>\n      <td>1470.000000</td>\n      <td>1470.000000</td>\n      <td>1470.000000</td>\n      <td>1470.000000</td>\n      <td>...</td>\n      <td>1470.000000</td>\n      <td>1470.0</td>\n      <td>1470.000000</td>\n      <td>1470.000000</td>\n      <td>1470.000000</td>\n      <td>1470.000000</td>\n      <td>1470.000000</td>\n      <td>1470.000000</td>\n      <td>1470.000000</td>\n      <td>1470.000000</td>\n    </tr>\n    <tr>\n      <th>mean</th>\n      <td>36.923810</td>\n      <td>802.485714</td>\n      <td>9.192517</td>\n      <td>2.912925</td>\n      <td>1.0</td>\n      <td>1024.865306</td>\n      <td>2.721769</td>\n      <td>65.891156</td>\n      <td>2.729932</td>\n      <td>2.063946</td>\n      <td>...</td>\n      <td>2.712245</td>\n      <td>80.0</td>\n      <td>0.793878</td>\n      <td>11.279592</td>\n      <td>2.799320</td>\n      <td>2.761224</td>\n      <td>7.008163</td>\n      <td>4.229252</td>\n      <td>2.187755</td>\n      <td>4.123129</td>\n    </tr>\n    <tr>\n      <th>std</th>\n      <td>9.135373</td>\n      <td>403.509100</td>\n      <td>8.106864</td>\n      <td>1.024165</td>\n      <td>0.0</td>\n      <td>602.024335</td>\n      <td>1.093082</td>\n      <td>20.329428</td>\n      <td>0.711561</td>\n      <td>1.106940</td>\n      <td>...</td>\n      <td>1.081209</td>\n      <td>0.0</td>\n      <td>0.852077</td>\n      <td>7.780782</td>\n      <td>1.289271</td>\n      <td>0.706476</td>\n      <td>6.126525</td>\n      <td>3.623137</td>\n      <td>3.222430</td>\n      <td>3.568136</td>\n    </tr>\n    <tr>\n      <th>min</th>\n      <td>18.000000</td>\n      <td>102.000000</td>\n      <td>1.000000</td>\n      <td>1.000000</td>\n      <td>1.0</td>\n      <td>1.000000</td>\n      <td>1.000000</td>\n      <td>30.000000</td>\n      <td>1.000000</td>\n      <td>1.000000</td>\n      <td>...</td>\n      <td>1.000000</td>\n      <td>80.0</td>\n      <td>0.000000</td>\n      <td>0.000000</td>\n      <td>0.000000</td>\n      <td>1.000000</td>\n      <td>0.000000</td>\n      <td>0.000000</td>\n      <td>0.000000</td>\n      <td>0.000000</td>\n    </tr>\n    <tr>\n      <th>25%</th>\n      <td>30.000000</td>\n      <td>465.000000</td>\n      <td>2.000000</td>\n      <td>2.000000</td>\n      <td>1.0</td>\n      <td>491.250000</td>\n      <td>2.000000</td>\n      <td>48.000000</td>\n      <td>2.000000</td>\n      <td>1.000000</td>\n      <td>...</td>\n      <td>2.000000</td>\n      <td>80.0</td>\n      <td>0.000000</td>\n      <td>6.000000</td>\n      <td>2.000000</td>\n      <td>2.000000</td>\n      <td>3.000000</td>\n      <td>2.000000</td>\n      <td>0.000000</td>\n      <td>2.000000</td>\n    </tr>\n    <tr>\n      <th>50%</th>\n      <td>36.000000</td>\n      <td>802.000000</td>\n      <td>7.000000</td>\n      <td>3.000000</td>\n      <td>1.0</td>\n      <td>1020.500000</td>\n      <td>3.000000</td>\n      <td>66.000000</td>\n      <td>3.000000</td>\n      <td>2.000000</td>\n      <td>...</td>\n      <td>3.000000</td>\n      <td>80.0</td>\n      <td>1.000000</td>\n      <td>10.000000</td>\n      <td>3.000000</td>\n      <td>3.000000</td>\n      <td>5.000000</td>\n      <td>3.000000</td>\n      <td>1.000000</td>\n      <td>3.000000</td>\n    </tr>\n    <tr>\n      <th>75%</th>\n      <td>43.000000</td>\n      <td>1157.000000</td>\n      <td>14.000000</td>\n      <td>4.000000</td>\n      <td>1.0</td>\n      <td>1555.750000</td>\n      <td>4.000000</td>\n      <td>83.750000</td>\n      <td>3.000000</td>\n      <td>3.000000</td>\n      <td>...</td>\n      <td>4.000000</td>\n      <td>80.0</td>\n      <td>1.000000</td>\n      <td>15.000000</td>\n      <td>3.000000</td>\n      <td>3.000000</td>\n      <td>9.000000</td>\n      <td>7.000000</td>\n      <td>3.000000</td>\n      <td>7.000000</td>\n    </tr>\n    <tr>\n      <th>max</th>\n      <td>60.000000</td>\n      <td>1499.000000</td>\n      <td>29.000000</td>\n      <td>5.000000</td>\n      <td>1.0</td>\n      <td>2068.000000</td>\n      <td>4.000000</td>\n      <td>100.000000</td>\n      <td>4.000000</td>\n      <td>5.000000</td>\n      <td>...</td>\n      <td>4.000000</td>\n      <td>80.0</td>\n      <td>3.000000</td>\n      <td>40.000000</td>\n      <td>6.000000</td>\n      <td>4.000000</td>\n      <td>40.000000</td>\n      <td>18.000000</td>\n      <td>15.000000</td>\n      <td>17.000000</td>\n    </tr>\n  </tbody>\n</table>\n<p>8 rows × 26 columns</p>\n</div>"
          },
          "metadata": {}
        }
      ],
      "execution_count": 37
    },
    {
      "id": "9bfe70b0",
      "cell_type": "markdown",
      "source": "## Q6: What is the dimension (number of rows and columns) of the dataset? What are the data types of the variables?",
      "metadata": {}
    },
    {
      "id": "8edccd83",
      "cell_type": "code",
      "source": "df.shape, df.dtypes",
      "metadata": {
        "trusted": true
      },
      "outputs": [
        {
          "execution_count": 38,
          "output_type": "execute_result",
          "data": {
            "text/plain": "((1470, 35),\n Age                          int64\n Attrition                   object\n BusinessTravel              object\n DailyRate                    int64\n Department                  object\n DistanceFromHome             int64\n Education                    int64\n EducationField              object\n EmployeeCount                int64\n EmployeeNumber               int64\n EnvironmentSatisfaction      int64\n Gender                      object\n HourlyRate                   int64\n JobInvolvement               int64\n JobLevel                     int64\n JobRole                     object\n JobSatisfaction              int64\n MaritalStatus               object\n MonthlyIncome                int64\n MonthlyRate                  int64\n NumCompaniesWorked           int64\n Over18                      object\n OverTime                    object\n PercentSalaryHike            int64\n PerformanceRating            int64\n RelationshipSatisfaction     int64\n StandardHours                int64\n StockOptionLevel             int64\n TotalWorkingYears            int64\n TrainingTimesLastYear        int64\n WorkLifeBalance              int64\n YearsAtCompany               int64\n YearsInCurrentRole           int64\n YearsSinceLastPromotion      int64\n YearsWithCurrManager         int64\n dtype: object)"
          },
          "metadata": {}
        }
      ],
      "execution_count": 38
    },
    {
      "id": "89d03a63",
      "cell_type": "markdown",
      "source": "## Q7: How can we convert incorrect data types?",
      "metadata": {}
    },
    {
      "id": "98c00ca8",
      "cell_type": "code",
      "source": "df['YearsAtCompany'] = df['YearsAtCompany'].astype(int)",
      "metadata": {
        "trusted": true
      },
      "outputs": [],
      "execution_count": 39
    },
    {
      "id": "a7b43efb",
      "cell_type": "markdown",
      "source": "## Q8: How can we normalize numerical variables?",
      "metadata": {}
    },
    {
      "id": "df511d7b",
      "cell_type": "code",
      "source": "from sklearn.preprocessing import MinMaxScaler\nscaler = MinMaxScaler()\ndf['MonthlyIncome'] = scaler.fit_transform(df[['MonthlyIncome']])",
      "metadata": {
        "trusted": true
      },
      "outputs": [],
      "execution_count": 40
    },
    {
      "id": "9afc14ce",
      "cell_type": "markdown",
      "source": "## Q9: Are all salary values in the correct format?",
      "metadata": {}
    },
    {
      "id": "a72ced4e",
      "cell_type": "code",
      "source": "df['MonthlyIncome'] = pd.to_numeric(df['MonthlyIncome'], errors='coerce')",
      "metadata": {
        "trusted": true
      },
      "outputs": [],
      "execution_count": 41
    },
    {
      "id": "9fd35d2c",
      "cell_type": "markdown",
      "source": "## Q10: How can we extract the number of years an employee has been with the company?",
      "metadata": {}
    },
    {
      "id": "a2440b43",
      "cell_type": "code",
      "source": "df['YearsAtCompany']",
      "metadata": {
        "trusted": true
      },
      "outputs": [
        {
          "execution_count": 42,
          "output_type": "execute_result",
          "data": {
            "text/plain": "0        6\n1       10\n2        0\n3        8\n4        2\n        ..\n1465     5\n1466     7\n1467     6\n1468     9\n1469     4\nName: YearsAtCompany, Length: 1470, dtype: int32"
          },
          "metadata": {}
        }
      ],
      "execution_count": 42
    },
    {
      "id": "94444df8",
      "cell_type": "markdown",
      "source": "## Q11: Are there any outliers in the salary column, and how can we handle them?",
      "metadata": {}
    },
    {
      "id": "9b8b6aa3",
      "cell_type": "code",
      "source": "import numpy as np\nQ1 = np.percentile(df['MonthlyIncome'], 25)\nQ3 = np.percentile(df['MonthlyIncome'], 75)\nIQR = Q3 - Q1\nlower_bound = Q1 - 1.5 * IQR\nupper_bound = Q3 + 1.5 * IQR\ndf = df[(df['MonthlyIncome'] >= lower_bound) & (df['MonthlyIncome'] <= upper_bound)]",
      "metadata": {
        "trusted": true
      },
      "outputs": [],
      "execution_count": 43
    },
    {
      "id": "dbd9ddf9",
      "cell_type": "markdown",
      "source": "## Q12: How can we make column names lowercase and remove spaces?",
      "metadata": {}
    },
    {
      "id": "5f9eb3dd",
      "cell_type": "code",
      "source": "df.columns = df.columns.str.lower().str.replace(' ', '_')",
      "metadata": {
        "trusted": true
      },
      "outputs": [],
      "execution_count": 44
    },
    {
      "id": "c35a9a41",
      "cell_type": "markdown",
      "source": "## Q13: How can we merge the employee dataset with performance ratings?",
      "metadata": {}
    },
    {
      "id": "69fdc67e-b3a8-496e-bc45-c7be3b01cabd",
      "cell_type": "code",
      "source": "print(df.columns.tolist())\ndf.columns = df.columns.str.strip().str.lower()",
      "metadata": {
        "trusted": true
      },
      "outputs": [
        {
          "name": "stdout",
          "output_type": "stream",
          "text": "['age', 'attrition', 'businesstravel', 'dailyrate', 'department', 'distancefromhome', 'education', 'educationfield', 'employeecount', 'employeenumber', 'environmentsatisfaction', 'gender', 'hourlyrate', 'jobinvolvement', 'joblevel', 'jobrole', 'jobsatisfaction', 'maritalstatus', 'monthlyincome', 'monthlyrate', 'numcompaniesworked', 'over18', 'overtime', 'percentsalaryhike', 'performancerating', 'relationshipsatisfaction', 'standardhours', 'stockoptionlevel', 'totalworkingyears', 'trainingtimeslastyear', 'worklifebalance', 'yearsatcompany', 'yearsincurrentrole', 'yearssincelastpromotion', 'yearswithcurrmanager']\n"
        }
      ],
      "execution_count": 50
    },
    {
      "id": "5135309b-5577-4785-8791-b23e6114a63e",
      "cell_type": "code",
      "source": "performance_df = df[['EmployeeNumber', 'PerformanceRating']].copy()\ndf = df.merge(performance_df, on='EmployeeNumber', how='left')\n",
      "metadata": {
        "trusted": true
      },
      "outputs": [
        {
          "ename": "<class 'KeyError'>",
          "evalue": "\"None of [Index(['EmployeeNumber', 'PerformanceRating'], dtype='object')] are in the [columns]\"",
          "traceback": [
            "\u001b[0;31m---------------------------------------------------------------------------\u001b[0m",
            "\u001b[0;31mKeyError\u001b[0m                                  Traceback (most recent call last)",
            "Cell \u001b[0;32mIn[51], line 1\u001b[0m\n\u001b[0;32m----> 1\u001b[0m performance_df \u001b[38;5;241m=\u001b[39m \u001b[43mdf\u001b[49m\u001b[43m[\u001b[49m\u001b[43m[\u001b[49m\u001b[38;5;124;43m'\u001b[39;49m\u001b[38;5;124;43mEmployeeNumber\u001b[39;49m\u001b[38;5;124;43m'\u001b[39;49m\u001b[43m,\u001b[49m\u001b[43m \u001b[49m\u001b[38;5;124;43m'\u001b[39;49m\u001b[38;5;124;43mPerformanceRating\u001b[39;49m\u001b[38;5;124;43m'\u001b[39;49m\u001b[43m]\u001b[49m\u001b[43m]\u001b[49m\u001b[38;5;241m.\u001b[39mcopy()\n\u001b[1;32m      2\u001b[0m df \u001b[38;5;241m=\u001b[39m df\u001b[38;5;241m.\u001b[39mmerge(performance_df, on\u001b[38;5;241m=\u001b[39m\u001b[38;5;124m'\u001b[39m\u001b[38;5;124mEmployeeNumber\u001b[39m\u001b[38;5;124m'\u001b[39m, how\u001b[38;5;241m=\u001b[39m\u001b[38;5;124m'\u001b[39m\u001b[38;5;124mleft\u001b[39m\u001b[38;5;124m'\u001b[39m)\n",
            "File \u001b[0;32m/lib/python3.12/site-packages/pandas/core/frame.py:4108\u001b[0m, in \u001b[0;36mDataFrame.__getitem__\u001b[0;34m(self, key)\u001b[0m\n\u001b[1;32m   4106\u001b[0m     \u001b[38;5;28;01mif\u001b[39;00m is_iterator(key):\n\u001b[1;32m   4107\u001b[0m         key \u001b[38;5;241m=\u001b[39m \u001b[38;5;28mlist\u001b[39m(key)\n\u001b[0;32m-> 4108\u001b[0m     indexer \u001b[38;5;241m=\u001b[39m \u001b[38;5;28;43mself\u001b[39;49m\u001b[38;5;241;43m.\u001b[39;49m\u001b[43mcolumns\u001b[49m\u001b[38;5;241;43m.\u001b[39;49m\u001b[43m_get_indexer_strict\u001b[49m\u001b[43m(\u001b[49m\u001b[43mkey\u001b[49m\u001b[43m,\u001b[49m\u001b[43m \u001b[49m\u001b[38;5;124;43m\"\u001b[39;49m\u001b[38;5;124;43mcolumns\u001b[39;49m\u001b[38;5;124;43m\"\u001b[39;49m\u001b[43m)\u001b[49m[\u001b[38;5;241m1\u001b[39m]\n\u001b[1;32m   4110\u001b[0m \u001b[38;5;66;03m# take() does not accept boolean indexers\u001b[39;00m\n\u001b[1;32m   4111\u001b[0m \u001b[38;5;28;01mif\u001b[39;00m \u001b[38;5;28mgetattr\u001b[39m(indexer, \u001b[38;5;124m\"\u001b[39m\u001b[38;5;124mdtype\u001b[39m\u001b[38;5;124m\"\u001b[39m, \u001b[38;5;28;01mNone\u001b[39;00m) \u001b[38;5;241m==\u001b[39m \u001b[38;5;28mbool\u001b[39m:\n",
            "File \u001b[0;32m/lib/python3.12/site-packages/pandas/core/indexes/base.py:6200\u001b[0m, in \u001b[0;36mIndex._get_indexer_strict\u001b[0;34m(self, key, axis_name)\u001b[0m\n\u001b[1;32m   6197\u001b[0m \u001b[38;5;28;01melse\u001b[39;00m:\n\u001b[1;32m   6198\u001b[0m     keyarr, indexer, new_indexer \u001b[38;5;241m=\u001b[39m \u001b[38;5;28mself\u001b[39m\u001b[38;5;241m.\u001b[39m_reindex_non_unique(keyarr)\n\u001b[0;32m-> 6200\u001b[0m \u001b[38;5;28;43mself\u001b[39;49m\u001b[38;5;241;43m.\u001b[39;49m\u001b[43m_raise_if_missing\u001b[49m\u001b[43m(\u001b[49m\u001b[43mkeyarr\u001b[49m\u001b[43m,\u001b[49m\u001b[43m \u001b[49m\u001b[43mindexer\u001b[49m\u001b[43m,\u001b[49m\u001b[43m \u001b[49m\u001b[43maxis_name\u001b[49m\u001b[43m)\u001b[49m\n\u001b[1;32m   6202\u001b[0m keyarr \u001b[38;5;241m=\u001b[39m \u001b[38;5;28mself\u001b[39m\u001b[38;5;241m.\u001b[39mtake(indexer)\n\u001b[1;32m   6203\u001b[0m \u001b[38;5;28;01mif\u001b[39;00m \u001b[38;5;28misinstance\u001b[39m(key, Index):\n\u001b[1;32m   6204\u001b[0m     \u001b[38;5;66;03m# GH 42790 - Preserve name from an Index\u001b[39;00m\n",
            "File \u001b[0;32m/lib/python3.12/site-packages/pandas/core/indexes/base.py:6249\u001b[0m, in \u001b[0;36mIndex._raise_if_missing\u001b[0;34m(self, key, indexer, axis_name)\u001b[0m\n\u001b[1;32m   6247\u001b[0m \u001b[38;5;28;01mif\u001b[39;00m nmissing:\n\u001b[1;32m   6248\u001b[0m     \u001b[38;5;28;01mif\u001b[39;00m nmissing \u001b[38;5;241m==\u001b[39m \u001b[38;5;28mlen\u001b[39m(indexer):\n\u001b[0;32m-> 6249\u001b[0m         \u001b[38;5;28;01mraise\u001b[39;00m \u001b[38;5;167;01mKeyError\u001b[39;00m(\u001b[38;5;124mf\u001b[39m\u001b[38;5;124m\"\u001b[39m\u001b[38;5;124mNone of [\u001b[39m\u001b[38;5;132;01m{\u001b[39;00mkey\u001b[38;5;132;01m}\u001b[39;00m\u001b[38;5;124m] are in the [\u001b[39m\u001b[38;5;132;01m{\u001b[39;00maxis_name\u001b[38;5;132;01m}\u001b[39;00m\u001b[38;5;124m]\u001b[39m\u001b[38;5;124m\"\u001b[39m)\n\u001b[1;32m   6251\u001b[0m     not_found \u001b[38;5;241m=\u001b[39m \u001b[38;5;28mlist\u001b[39m(ensure_index(key)[missing_mask\u001b[38;5;241m.\u001b[39mnonzero()[\u001b[38;5;241m0\u001b[39m]]\u001b[38;5;241m.\u001b[39munique())\n\u001b[1;32m   6252\u001b[0m     \u001b[38;5;28;01mraise\u001b[39;00m \u001b[38;5;167;01mKeyError\u001b[39;00m(\u001b[38;5;124mf\u001b[39m\u001b[38;5;124m\"\u001b[39m\u001b[38;5;132;01m{\u001b[39;00mnot_found\u001b[38;5;132;01m}\u001b[39;00m\u001b[38;5;124m not in index\u001b[39m\u001b[38;5;124m\"\u001b[39m)\n",
            "\u001b[0;31mKeyError\u001b[0m: \"None of [Index(['EmployeeNumber', 'PerformanceRating'], dtype='object')] are in the [columns]\""
          ],
          "output_type": "error"
        }
      ],
      "execution_count": 51
    },
    {
      "id": "3543cd29-42e8-418f-843d-a20dd24bbfdb",
      "cell_type": "markdown",
      "source": "## Q14: How can we calculate the average salary for each department?",
      "metadata": {}
    },
    {
      "id": "b586ea67",
      "cell_type": "code",
      "source": "df.groupby('department')['monthlyincome'].mean()",
      "metadata": {
        "trusted": true
      },
      "outputs": [
        {
          "execution_count": 45,
          "output_type": "execute_result",
          "data": {
            "text/plain": "department\nHuman Resources           0.191364\nResearch & Development    0.219497\nSales                     0.278317\nName: monthlyincome, dtype: float64"
          },
          "metadata": {}
        }
      ],
      "execution_count": 45
    },
    {
      "id": "8dc7d595",
      "cell_type": "markdown",
      "source": "## Q15: How can we filter employees who worked more than 50 overtime hours?",
      "metadata": {}
    },
    {
      "id": "308c0687",
      "cell_type": "code",
      "source": "df[df['overtime'] == 'Yes']",
      "metadata": {
        "trusted": true
      },
      "outputs": [
        {
          "execution_count": 46,
          "output_type": "execute_result",
          "data": {
            "text/plain": "      age attrition     businesstravel  dailyrate              department  \\\n0      41       Yes      Travel_Rarely       1102                   Sales   \n2      37       Yes      Travel_Rarely       1373  Research & Development   \n3      33        No  Travel_Frequently       1392  Research & Development   \n6      59        No      Travel_Rarely       1324  Research & Development   \n11     29        No      Travel_Rarely        153  Research & Development   \n...   ...       ...                ...        ...                     ...   \n1450   35        No      Travel_Rarely       1146         Human Resources   \n1456   35        No  Travel_Frequently       1199  Research & Development   \n1459   29        No      Travel_Rarely       1378  Research & Development   \n1461   50       Yes      Travel_Rarely        410                   Sales   \n1467   27        No      Travel_Rarely        155  Research & Development   \n\n      distancefromhome  education educationfield  employeecount  \\\n0                    1          2  Life Sciences              1   \n2                    2          2          Other              1   \n3                    3          4  Life Sciences              1   \n6                    3          3        Medical              1   \n11                  15          2  Life Sciences              1   \n...                ...        ...            ...            ...   \n1450                26          4  Life Sciences              1   \n1456                18          4  Life Sciences              1   \n1459                13          2          Other              1   \n1461                28          3      Marketing              1   \n1467                 4          3  Life Sciences              1   \n\n      employeenumber  ...  relationshipsatisfaction standardhours  \\\n0                  1  ...                         1            80   \n2                  4  ...                         2            80   \n3                  5  ...                         3            80   \n6                 10  ...                         1            80   \n11                15  ...                         4            80   \n...              ...  ...                       ...           ...   \n1450            2040  ...                         3            80   \n1456            2049  ...                         4            80   \n1459            2053  ...                         1            80   \n1461            2055  ...                         2            80   \n1467            2064  ...                         2            80   \n\n      stockoptionlevel  totalworkingyears  trainingtimeslastyear  \\\n0                    0                  8                      0   \n2                    0                  7                      3   \n3                    0                  8                      3   \n6                    3                 12                      3   \n11                   0                 10                      3   \n...                ...                ...                    ...   \n1450                 0                  9                      2   \n1456                 2                 10                      2   \n1459                 1                 10                      2   \n1461                 1                 20                      3   \n1467                 1                  6                      0   \n\n     worklifebalance  yearsatcompany yearsincurrentrole  \\\n0                  1               6                  4   \n2                  3               0                  0   \n3                  3               8                  7   \n6                  2               1                  0   \n11                 3               9                  5   \n...              ...             ...                ...   \n1450               3               9                  0   \n1456               4              10                  2   \n1459               3               4                  3   \n1461               3               3                  2   \n1467               3               6                  2   \n\n      yearssincelastpromotion  yearswithcurrmanager  \n0                           0                     5  \n2                           0                     0  \n3                           3                     0  \n6                           0                     0  \n11                          0                     8  \n...                       ...                   ...  \n1450                        1                     7  \n1456                        0                     2  \n1459                        0                     3  \n1461                        2                     0  \n1467                        0                     3  \n\n[386 rows x 35 columns]",
            "text/html": "<div>\n<style scoped>\n    .dataframe tbody tr th:only-of-type {\n        vertical-align: middle;\n    }\n\n    .dataframe tbody tr th {\n        vertical-align: top;\n    }\n\n    .dataframe thead th {\n        text-align: right;\n    }\n</style>\n<table border=\"1\" class=\"dataframe\">\n  <thead>\n    <tr style=\"text-align: right;\">\n      <th></th>\n      <th>age</th>\n      <th>attrition</th>\n      <th>businesstravel</th>\n      <th>dailyrate</th>\n      <th>department</th>\n      <th>distancefromhome</th>\n      <th>education</th>\n      <th>educationfield</th>\n      <th>employeecount</th>\n      <th>employeenumber</th>\n      <th>...</th>\n      <th>relationshipsatisfaction</th>\n      <th>standardhours</th>\n      <th>stockoptionlevel</th>\n      <th>totalworkingyears</th>\n      <th>trainingtimeslastyear</th>\n      <th>worklifebalance</th>\n      <th>yearsatcompany</th>\n      <th>yearsincurrentrole</th>\n      <th>yearssincelastpromotion</th>\n      <th>yearswithcurrmanager</th>\n    </tr>\n  </thead>\n  <tbody>\n    <tr>\n      <th>0</th>\n      <td>41</td>\n      <td>Yes</td>\n      <td>Travel_Rarely</td>\n      <td>1102</td>\n      <td>Sales</td>\n      <td>1</td>\n      <td>2</td>\n      <td>Life Sciences</td>\n      <td>1</td>\n      <td>1</td>\n      <td>...</td>\n      <td>1</td>\n      <td>80</td>\n      <td>0</td>\n      <td>8</td>\n      <td>0</td>\n      <td>1</td>\n      <td>6</td>\n      <td>4</td>\n      <td>0</td>\n      <td>5</td>\n    </tr>\n    <tr>\n      <th>2</th>\n      <td>37</td>\n      <td>Yes</td>\n      <td>Travel_Rarely</td>\n      <td>1373</td>\n      <td>Research &amp; Development</td>\n      <td>2</td>\n      <td>2</td>\n      <td>Other</td>\n      <td>1</td>\n      <td>4</td>\n      <td>...</td>\n      <td>2</td>\n      <td>80</td>\n      <td>0</td>\n      <td>7</td>\n      <td>3</td>\n      <td>3</td>\n      <td>0</td>\n      <td>0</td>\n      <td>0</td>\n      <td>0</td>\n    </tr>\n    <tr>\n      <th>3</th>\n      <td>33</td>\n      <td>No</td>\n      <td>Travel_Frequently</td>\n      <td>1392</td>\n      <td>Research &amp; Development</td>\n      <td>3</td>\n      <td>4</td>\n      <td>Life Sciences</td>\n      <td>1</td>\n      <td>5</td>\n      <td>...</td>\n      <td>3</td>\n      <td>80</td>\n      <td>0</td>\n      <td>8</td>\n      <td>3</td>\n      <td>3</td>\n      <td>8</td>\n      <td>7</td>\n      <td>3</td>\n      <td>0</td>\n    </tr>\n    <tr>\n      <th>6</th>\n      <td>59</td>\n      <td>No</td>\n      <td>Travel_Rarely</td>\n      <td>1324</td>\n      <td>Research &amp; Development</td>\n      <td>3</td>\n      <td>3</td>\n      <td>Medical</td>\n      <td>1</td>\n      <td>10</td>\n      <td>...</td>\n      <td>1</td>\n      <td>80</td>\n      <td>3</td>\n      <td>12</td>\n      <td>3</td>\n      <td>2</td>\n      <td>1</td>\n      <td>0</td>\n      <td>0</td>\n      <td>0</td>\n    </tr>\n    <tr>\n      <th>11</th>\n      <td>29</td>\n      <td>No</td>\n      <td>Travel_Rarely</td>\n      <td>153</td>\n      <td>Research &amp; Development</td>\n      <td>15</td>\n      <td>2</td>\n      <td>Life Sciences</td>\n      <td>1</td>\n      <td>15</td>\n      <td>...</td>\n      <td>4</td>\n      <td>80</td>\n      <td>0</td>\n      <td>10</td>\n      <td>3</td>\n      <td>3</td>\n      <td>9</td>\n      <td>5</td>\n      <td>0</td>\n      <td>8</td>\n    </tr>\n    <tr>\n      <th>...</th>\n      <td>...</td>\n      <td>...</td>\n      <td>...</td>\n      <td>...</td>\n      <td>...</td>\n      <td>...</td>\n      <td>...</td>\n      <td>...</td>\n      <td>...</td>\n      <td>...</td>\n      <td>...</td>\n      <td>...</td>\n      <td>...</td>\n      <td>...</td>\n      <td>...</td>\n      <td>...</td>\n      <td>...</td>\n      <td>...</td>\n      <td>...</td>\n      <td>...</td>\n      <td>...</td>\n    </tr>\n    <tr>\n      <th>1450</th>\n      <td>35</td>\n      <td>No</td>\n      <td>Travel_Rarely</td>\n      <td>1146</td>\n      <td>Human Resources</td>\n      <td>26</td>\n      <td>4</td>\n      <td>Life Sciences</td>\n      <td>1</td>\n      <td>2040</td>\n      <td>...</td>\n      <td>3</td>\n      <td>80</td>\n      <td>0</td>\n      <td>9</td>\n      <td>2</td>\n      <td>3</td>\n      <td>9</td>\n      <td>0</td>\n      <td>1</td>\n      <td>7</td>\n    </tr>\n    <tr>\n      <th>1456</th>\n      <td>35</td>\n      <td>No</td>\n      <td>Travel_Frequently</td>\n      <td>1199</td>\n      <td>Research &amp; Development</td>\n      <td>18</td>\n      <td>4</td>\n      <td>Life Sciences</td>\n      <td>1</td>\n      <td>2049</td>\n      <td>...</td>\n      <td>4</td>\n      <td>80</td>\n      <td>2</td>\n      <td>10</td>\n      <td>2</td>\n      <td>4</td>\n      <td>10</td>\n      <td>2</td>\n      <td>0</td>\n      <td>2</td>\n    </tr>\n    <tr>\n      <th>1459</th>\n      <td>29</td>\n      <td>No</td>\n      <td>Travel_Rarely</td>\n      <td>1378</td>\n      <td>Research &amp; Development</td>\n      <td>13</td>\n      <td>2</td>\n      <td>Other</td>\n      <td>1</td>\n      <td>2053</td>\n      <td>...</td>\n      <td>1</td>\n      <td>80</td>\n      <td>1</td>\n      <td>10</td>\n      <td>2</td>\n      <td>3</td>\n      <td>4</td>\n      <td>3</td>\n      <td>0</td>\n      <td>3</td>\n    </tr>\n    <tr>\n      <th>1461</th>\n      <td>50</td>\n      <td>Yes</td>\n      <td>Travel_Rarely</td>\n      <td>410</td>\n      <td>Sales</td>\n      <td>28</td>\n      <td>3</td>\n      <td>Marketing</td>\n      <td>1</td>\n      <td>2055</td>\n      <td>...</td>\n      <td>2</td>\n      <td>80</td>\n      <td>1</td>\n      <td>20</td>\n      <td>3</td>\n      <td>3</td>\n      <td>3</td>\n      <td>2</td>\n      <td>2</td>\n      <td>0</td>\n    </tr>\n    <tr>\n      <th>1467</th>\n      <td>27</td>\n      <td>No</td>\n      <td>Travel_Rarely</td>\n      <td>155</td>\n      <td>Research &amp; Development</td>\n      <td>4</td>\n      <td>3</td>\n      <td>Life Sciences</td>\n      <td>1</td>\n      <td>2064</td>\n      <td>...</td>\n      <td>2</td>\n      <td>80</td>\n      <td>1</td>\n      <td>6</td>\n      <td>0</td>\n      <td>3</td>\n      <td>6</td>\n      <td>2</td>\n      <td>0</td>\n      <td>3</td>\n    </tr>\n  </tbody>\n</table>\n<p>386 rows × 35 columns</p>\n</div>"
          },
          "metadata": {}
        }
      ],
      "execution_count": 46
    },
    {
      "id": "db918d17",
      "cell_type": "markdown",
      "source": "## Q16: How can we detect and remove outliers in numerical columns?",
      "metadata": {}
    },
    {
      "id": "b11fe0b4",
      "cell_type": "code",
      "source": "df = df[(df['age'] >= 18) & (df['age'] <= 65)]",
      "metadata": {
        "trusted": true
      },
      "outputs": [],
      "execution_count": 47
    },
    {
      "id": "59c2bba4",
      "cell_type": "markdown",
      "source": "## Q17: How can we visualize relationships between variables using Seaborn?",
      "metadata": {}
    },
    {
      "id": "d1a14897",
      "cell_type": "code",
      "source": "%pip install seaborn\nimport seaborn as sns\nimport matplotlib.pyplot as plt\nsns.histplot(df['monthlyincome'], bins=30, kde=True)\nplt.show()",
      "metadata": {
        "trusted": true,
        "scrolled": true
      },
      "outputs": [
        {
          "output_type": "display_data",
          "data": {
            "text/plain": "<Figure size 640x480 with 1 Axes>",
            "image/png": "[encoded data removed]"
          },
          "metadata": {}
        }
      ],
      "execution_count": 48
    },
    {
      "id": "b60f0095-4a5a-4a7a-bfc0-7bf2f6b899cd",
      "cell_type": "code",
      "source": "print(df.columns)",
      "metadata": {
        "trusted": true
      },
      "outputs": [
        {
          "name": "stdout",
          "output_type": "stream",
          "text": "Index(['age', 'attrition', 'businesstravel', 'dailyrate', 'department',\n       'distancefromhome', 'education', 'educationfield', 'employeecount',\n       'employeenumber', 'environmentsatisfaction', 'gender', 'hourlyrate',\n       'jobinvolvement', 'joblevel', 'jobrole', 'jobsatisfaction',\n       'maritalstatus', 'monthlyincome', 'monthlyrate', 'numcompaniesworked',\n       'over18', 'overtime', 'percentsalaryhike', 'performancerating',\n       'relationshipsatisfaction', 'standardhours', 'stockoptionlevel',\n       'totalworkingyears', 'trainingtimeslastyear', 'worklifebalance',\n       'yearsatcompany', 'yearsincurrentrole', 'yearssincelastpromotion',\n       'yearswithcurrmanager'],\n      dtype='object')\n"
        }
      ],
      "execution_count": 23
    },
    {
      "id": "3ed17202-45e7-4a14-9499-9d8c27ae4c51",
      "cell_type": "code",
      "source": "",
      "metadata": {
        "trusted": true
      },
      "outputs": [],
      "execution_count": null
    }
  ]
}